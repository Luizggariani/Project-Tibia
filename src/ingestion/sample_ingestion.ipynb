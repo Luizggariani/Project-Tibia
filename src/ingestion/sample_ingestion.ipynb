{
 "cells": [
  {
   "cell_type": "code",
   "execution_count": 17,
   "id": "a25471de",
   "metadata": {},
   "outputs": [
    {
     "data": {
      "text/html": [
       "<div>\n",
       "<style scoped>\n",
       "    .dataframe tbody tr th:only-of-type {\n",
       "        vertical-align: middle;\n",
       "    }\n",
       "\n",
       "    .dataframe tbody tr th {\n",
       "        vertical-align: top;\n",
       "    }\n",
       "\n",
       "    .dataframe thead th {\n",
       "        text-align: right;\n",
       "    }\n",
       "</style>\n",
       "<table border=\"1\" class=\"dataframe\">\n",
       "  <thead>\n",
       "    <tr style=\"text-align: right;\">\n",
       "      <th></th>\n",
       "      <th>name</th>\n",
       "      <th>race</th>\n",
       "      <th>image_url</th>\n",
       "      <th>featured</th>\n",
       "    </tr>\n",
       "  </thead>\n",
       "  <tbody>\n",
       "    <tr>\n",
       "      <th>0</th>\n",
       "      <td>Acid Blobs</td>\n",
       "      <td>acidblob</td>\n",
       "      <td>https://static.tibia.com/images/library/acidbl...</td>\n",
       "      <td>False</td>\n",
       "    </tr>\n",
       "    <tr>\n",
       "      <th>1</th>\n",
       "      <td>Acolytes Of The Cult</td>\n",
       "      <td>cultacolyte</td>\n",
       "      <td>https://static.tibia.com/images/library/cultac...</td>\n",
       "      <td>False</td>\n",
       "    </tr>\n",
       "    <tr>\n",
       "      <th>2</th>\n",
       "      <td>Adepts Of The Cult</td>\n",
       "      <td>cultadept</td>\n",
       "      <td>https://static.tibia.com/images/library/cultad...</td>\n",
       "      <td>False</td>\n",
       "    </tr>\n",
       "    <tr>\n",
       "      <th>3</th>\n",
       "      <td>Adult Goannas</td>\n",
       "      <td>adultgoanna</td>\n",
       "      <td>https://static.tibia.com/images/library/adultg...</td>\n",
       "      <td>False</td>\n",
       "    </tr>\n",
       "    <tr>\n",
       "      <th>4</th>\n",
       "      <td>Afflicted Striders</td>\n",
       "      <td>afflictedstrider</td>\n",
       "      <td>https://static.tibia.com/images/library/afflic...</td>\n",
       "      <td>False</td>\n",
       "    </tr>\n",
       "  </tbody>\n",
       "</table>\n",
       "</div>"
      ],
      "text/plain": [
       "                   name              race  \\\n",
       "0            Acid Blobs          acidblob   \n",
       "1  Acolytes Of The Cult       cultacolyte   \n",
       "2    Adepts Of The Cult         cultadept   \n",
       "3         Adult Goannas       adultgoanna   \n",
       "4    Afflicted Striders  afflictedstrider   \n",
       "\n",
       "                                           image_url  featured  \n",
       "0  https://static.tibia.com/images/library/acidbl...     False  \n",
       "1  https://static.tibia.com/images/library/cultac...     False  \n",
       "2  https://static.tibia.com/images/library/cultad...     False  \n",
       "3  https://static.tibia.com/images/library/adultg...     False  \n",
       "4  https://static.tibia.com/images/library/afflic...     False  "
      ]
     },
     "execution_count": 17,
     "metadata": {},
     "output_type": "execute_result"
    }
   ],
   "source": [
    "import json\n",
    "import pandas as pd\n",
    "import psycopg2 as ps\n",
    "from pathlib import Path\n",
    "\n",
    "def read_json_as_df(file_path):\n",
    "    \"\"\"\n",
    "    Reads a JSON file and converts it to a pandas DataFrame.\n",
    "    \n",
    "    Args:\n",
    "        file_path (str): The path to the JSON file.\n",
    "        \n",
    "    Returns:\n",
    "        pd.DataFrame: A DataFrame containing the data from the JSON file.\n",
    "    \"\"\"\n",
    "    try:\n",
    "        \n",
    "        df = pd.DataFrame(file_path)\n",
    "        return df\n",
    "    except ValueError as e:\n",
    "        print(f\"Error reading JSON file: {e}\")\n",
    "        return None\n",
    "  \n",
    "creatures_json_path = Path(\"/home/tick/Project-Tibia/creatures.json\")\n",
    "\n",
    "with creatures_json_path.open() as f:\n",
    "    creatures_data = json.load(f)\n",
    "\n",
    "df = read_json_as_df(creatures_data['creatures']['creature_list'])\n",
    "\n",
    "df.head()    "
   ]
  },
  {
   "cell_type": "code",
   "execution_count": 18,
   "id": "45c7280a",
   "metadata": {},
   "outputs": [
    {
     "name": "stdout",
     "output_type": "stream",
     "text": [
      "<class 'pandas.core.frame.DataFrame'>\n",
      "RangeIndex: 638 entries, 0 to 637\n",
      "Data columns (total 4 columns):\n",
      " #   Column     Non-Null Count  Dtype \n",
      "---  ------     --------------  ----- \n",
      " 0   name       638 non-null    object\n",
      " 1   race       638 non-null    object\n",
      " 2   image_url  638 non-null    object\n",
      " 3   featured   638 non-null    bool  \n",
      "dtypes: bool(1), object(3)\n",
      "memory usage: 15.7+ KB\n"
     ]
    }
   ],
   "source": [
    "# Display the schema of the DataFrame\n",
    "df.info()"
   ]
  },
  {
   "cell_type": "code",
   "execution_count": null,
   "id": "129b1936",
   "metadata": {},
   "outputs": [],
   "source": [
    "def connect_to_db():\n",
    "    \"\"\"\n",
    "    Connects to the PostgreSQL database and returns the connection object.\n",
    "    \n",
    "    Returns:\n",
    "        conn: A connection object to the PostgreSQL database.\n",
    "    \"\"\"\n",
    "    try:\n",
    "        conn = ps.connect(\n",
    "            dbname=\"tibia_db\",\n",
    "            user=\"tibia_user\",\n",
    "            password=\"tibia_pass\",\n",
    "            host=\"172.20.0.1\",\n",
    "            port=\"5432\"\n",
    "        )\n",
    "        \n",
    "        print(\"Connected to the database successfully.\")\n",
    "        return conn\n",
    "    except ps.DatabaseError as e:\n",
    "        print(f\"Error connecting to the database: {e}\")\n",
    "        return None"
   ]
  },
  {
   "cell_type": "code",
   "execution_count": null,
   "id": "b6cdc09e",
   "metadata": {},
   "outputs": [],
   "source": [
    "def send_df_to_db(df, conn):\n",
    "    \"\"\"\n",
    "    Sends a pandas DataFrame to the PostgreSQL database.\n",
    "    \n",
    "    Args:\n",
    "        df (pd.DataFrame): The DataFrame to send.\n",
    "        conn: The connection object to the PostgreSQL database.\n",
    "    \"\"\"\n",
    "    try:\n",
    "        # Create a cursor object\n",
    "        cursor = conn.cursor()\n",
    "\n",
    "        # Insert data into the 'creatures' table\n",
    "        insert_query = \"\"\"\n",
    "        INSERT INTO creatures (name, race, image_url, featured)\n",
    "        VALUES (%s, %s, %s, %s);\n",
    "        \"\"\"\n",
    "        for _, row in df.iterrows():\n",
    "            cursor.execute(insert_query, (row['name'], row['race'], row['image_url'], row['featured']))\n",
    "        \n",
    "        # Commit the transaction\n",
    "        conn.commit()\n",
    "        print(\"DataFrame sent to the database successfully.\")\n",
    "        \n",
    "        # Close the cursor\n",
    "        cursor.close()\n",
    "    except Exception as e:\n",
    "        print(f\"Error sending DataFrame to the database: {e}\")\n",
    "        "
   ]
  },
  {
   "cell_type": "code",
   "execution_count": 27,
   "id": "c600167f",
   "metadata": {},
   "outputs": [
    {
     "name": "stdout",
     "output_type": "stream",
     "text": [
      "DataFrame sent to the database successfully.\n"
     ]
    }
   ],
   "source": [
    "send_df_to_db(df, connect_to_db())"
   ]
  }
 ],
 "metadata": {
  "kernelspec": {
   "display_name": "project-tibia",
   "language": "python",
   "name": "python3"
  },
  "language_info": {
   "codemirror_mode": {
    "name": "ipython",
    "version": 3
   },
   "file_extension": ".py",
   "mimetype": "text/x-python",
   "name": "python",
   "nbconvert_exporter": "python",
   "pygments_lexer": "ipython3",
   "version": "3.10.12"
  }
 },
 "nbformat": 4,
 "nbformat_minor": 5
}
